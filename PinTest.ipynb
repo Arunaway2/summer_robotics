{
 "cells": [
  {
   "cell_type": "code",
   "execution_count": 1,
   "id": "8ac3b26d",
   "metadata": {},
   "outputs": [],
   "source": [
    "import pinocchio\n",
    "from sys import argv\n",
    "from os.path import dirname, join, abspath\n",
    "import numpy as np\n",
    "import time\n",
    "import pybullet as p\n",
    "from bullet_utils.env import BulletEnvWithGround\n",
    "from robot_properties_teststand.teststand_wrapper import TeststandRobot, TeststandConfig\n",
    "\n"
   ]
  },
  {
   "cell_type": "code",
   "execution_count": 2,
   "id": "85ac4e13",
   "metadata": {},
   "outputs": [],
   "source": [
    "\n",
    "\n",
    "\n",
    "# Create a robot instance. This initializes the simulator as well.\n",
    "env = BulletEnvWithGround(p.GUI)\n",
    "robot = TeststandRobot(fixed_height=True)\n",
    "env.add_robot(robot)\n",
    "tau = np.zeros(robot.nb_dof)\n"
   ]
  },
  {
   "cell_type": "code",
   "execution_count": null,
   "id": "295f457b",
   "metadata": {},
   "outputs": [
    {
     "name": "stdout",
     "output_type": "stream",
     "text": [
      "model name: teststand\n",
      "q0: [[ 0.4        -1.04719755 -1.6       ]]\n",
      "universe                 :  0.00  0.00  0.00\n",
      "joint_z                  :  0.00  0.00  0.40\n",
      "HFE                      :  0.00  0.00  0.40\n",
      "KFE                      :  0.14  0.04  0.32\n"
     ]
    }
   ],
   "source": [
    "\n",
    "# Reset the robot to some initial state.\n",
    "q0 = np.matrix(TeststandConfig.initial_configuration).T\n",
    "dq0 = np.matrix(TeststandConfig.initial_velocity).T\n",
    "q0[1]= -np.pi/3\n",
    "dq0[1]= -.05\n",
    "\n",
    "robot.reset_state(q0, dq0)\n",
    "\n",
    "\n",
    "\n",
    "\n",
    "\n",
    "# You should change here to set up your own URDF file or just pass it as an argument of this example.\n",
    "testStand = '/home/chintu/robotsummerstuff/ws/robot_properties/robot_properties_teststand/src/robot_properties_teststand/robot_properties_teststand/pre_generated_urdf/teststand.urdf'\n",
    "# Load the urdf model\n",
    "model    = pinocchio.buildModelFromUrdf(testStand)\n",
    "print('model name: ' + model.name)\n",
    "# Create data required by the algorithms\n",
    "data = model.createData()\n",
    "# Sample a random configuration\n",
    "\n",
    "print('q0: %s' % q0.T)\n",
    "# Perform the forward kinematics over the kinematic tree\n",
    "pinocchio.forwardKinematics(model,data,q0)\n",
    "# Print out the placement of each joint of the kinematic tree\n",
    "for name, oMi in zip(model.names, data.oMi):\n",
    "    print((\"{:<24} : {: .2f} {: .2f} {: .2f}\"\n",
    "          .format( name, *oMi.translation.T.flat )))\n",
    "    \n",
    "    \n",
    "# Run the simulator for 100 steps\n",
    "for i in range(50000):\n",
    "    # TODO: Implement a controller here.\n",
    "    robot.send_joint_command(tau)\n",
    "    robot.step_simulation()\n",
    "    time.sleep(0.001)  # You can sleep here if you want to slow down the replay\n",
    "\n",
    "# Read the final state and forces after the stepping.\n",
    "q, dq = robot.get_state()\n",
    "active_eff, forces = robot.get_force()\n",
    "print(\"q\", q0)\n",
    "print(\"dq\", dq0)\n",
    "print(\"active eff\", active_eff)\n",
    "print(\"forces\", forces)"
   ]
  },
  {
   "cell_type": "code",
   "execution_count": null,
   "id": "8f9947dc",
   "metadata": {},
   "outputs": [],
   "source": []
  },
  {
   "cell_type": "code",
   "execution_count": null,
   "id": "5299bf3e",
   "metadata": {},
   "outputs": [],
   "source": []
  }
 ],
 "metadata": {
  "kernelspec": {
   "display_name": "Python 3",
   "language": "python",
   "name": "python3"
  },
  "language_info": {
   "codemirror_mode": {
    "name": "ipython",
    "version": 3
   },
   "file_extension": ".py",
   "mimetype": "text/x-python",
   "name": "python",
   "nbconvert_exporter": "python",
   "pygments_lexer": "ipython3",
   "version": "3.8.5"
  }
 },
 "nbformat": 4,
 "nbformat_minor": 5
}
