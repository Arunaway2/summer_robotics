{
 "cells": [
  {
   "cell_type": "code",
   "execution_count": 7,
   "id": "75518a72",
   "metadata": {},
   "outputs": [],
   "source": [
    "import numpy as np\n",
    "import pinocchio as pin\n",
    "from pinocchio.utils import zero, eye\n"
   ]
  },
  {
   "cell_type": "code",
   "execution_count": 11,
   "id": "6ee7efd8",
   "metadata": {},
   "outputs": [],
   "source": [
    "class ImpedanceController(object):\n",
    "    def __init__(\n",
    "        self,\n",
    "        name, \n",
    "        pin_robot, \n",
    "        frame_root_name, \n",
    "        frame_end_name, \n",
    "        start_column, \n",
    "        active_joints\n",
    "    ):\n",
    "        \n",
    "        self.name = name\n",
    "        self.pin_robot = pin_robot\n",
    "        self.frame_root_name = frame_root_name\n",
    "        self.frame_end_name = frame_end_name \n",
    "        self.frame_root_idx = self.pin_robot.model.getFrameId(\n",
    "            self.frame_root_name)\n",
    "        self.frame_end_idx = self.pin_robot.model.model.getFrameId(\n",
    "            self.frame_end_name)\n",
    "        self.start_column = start_colomn\n",
    "        self.active_joints = active_joints\n",
    "        \n",
    "    \n"
   ]
  },
  {
   "cell_type": "code",
   "execution_count": 12,
   "id": "e0fb2fcb",
   "metadata": {},
   "outputs": [],
   "source": [
    "    def compute_forward_kinematics(self, q):\n",
    "        pin.framesForwardkinematics(\n",
    "            self.pin_robot.model, self.pin_robot.data, q \n",
    "        ) "
   ]
  },
  {
   "cell_type": "code",
   "execution_count": 13,
   "id": "48082d97",
   "metadata": {},
   "outputs": [],
   "source": [
    "    def compute_distance_between_frames(self, q):\n",
    "        return ( self.pin_robot.data.oMf[self.frame_end_idx].translation- self.pin_robot.data.oMf[self.frame_root_idx].translation)"
   ]
  },
  {
   "cell_type": "code",
   "execution_count": null,
   "id": "ef2124d1",
   "metadata": {},
   "outputs": [],
   "source": [
    "    def compute_relative_velocity_between_frames(self,q, dq):\n",
    "        frame_config_root = pin.SE3( self.pin_robot.data.oMf[self.frame_root_idx].rotation, np.zeros((3,1)),\n",
    "        )\n",
    "        frame_config_end = pin.SE3(self.pin_robot.data.oMf[self.frame_end_idx].rotation, np.zeros((3,1)),\n",
    "        )\n",
    "        \n",
    "        vel_root_in_world_frame = frame_config_root(\n",
    "            pin.computeFrameJacobian(\n",
    "                self.pin_robot.model,\n",
    "            self.pin_robot.data,\n",
    "            q,\n",
    "            self.frame_root_idx,)\n",
    "        )   \n",
    "        "
   ]
  }
 ],
 "metadata": {
  "kernelspec": {
   "display_name": "Python 3",
   "language": "python",
   "name": "python3"
  },
  "language_info": {
   "codemirror_mode": {
    "name": "ipython",
    "version": 3
   },
   "file_extension": ".py",
   "mimetype": "text/x-python",
   "name": "python",
   "nbconvert_exporter": "python",
   "pygments_lexer": "ipython3",
   "version": "3.8.5"
  }
 },
 "nbformat": 4,
 "nbformat_minor": 5
}
